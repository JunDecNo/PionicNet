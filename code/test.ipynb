{
 "cells": [
  {
   "cell_type": "code",
   "execution_count": 8,
   "metadata": {},
   "outputs": [
    {
     "name": "stdout",
     "output_type": "stream",
     "text": [
      "{'pdb_DF':         ID atom res res_id                       xyz  B_factor atom_type  \\\n",
      "0        0    N   A      2  [17.716, -19.229, 4.109]     56.06         N   \n",
      "1        1   CA   A      2  [18.169, -17.841, 3.781]     51.35         C   \n",
      "2        2    C   A      2  [18.477, -17.072, 5.071]     46.02         C   \n",
      "3        3    O   A      2  [17.883, -17.285, 6.115]     45.94         O   \n",
      "4        4   CB   A      2  [17.136, -17.093, 2.956]     54.32         C   \n",
      "...    ...  ...  ..    ...                       ...       ...       ...   \n",
      "1274  1274    O   I    171  [11.813, -10.878, 7.303]     36.83         O   \n",
      "1275  1275   CB   I    171   [12.233, -7.969, 6.981]     40.79         C   \n",
      "1276  1276  CG1   I    171   [12.169, -6.471, 7.309]     43.67         C   \n",
      "1277  1277  CG2   I    171   [11.848, -8.277, 5.539]     45.45         C   \n",
      "1278  1278  CD1   I    171   [13.481, -5.764, 7.097]     44.72         C   \n",
      "\n",
      "      charge  is_sidechain  mass     num_H  occupancy  ring  \n",
      "0        0.5           0.0  14.0  0.333333        1.0   0.0  \n",
      "1        0.5           0.0  12.0  0.333333        1.0   0.0  \n",
      "2        0.5           0.0  12.0  0.000000        1.0   0.0  \n",
      "3        0.5           0.0  16.0  0.000000        1.0   0.0  \n",
      "4        0.5           1.0  12.0  1.000000        1.0   0.0  \n",
      "...      ...           ...   ...       ...        ...   ...  \n",
      "1274     0.5           0.0  16.0  0.000000        1.0   0.0  \n",
      "1275     0.5           1.0  12.0  0.333333        1.0   0.0  \n",
      "1276     0.5           1.0  12.0  0.666667        1.0   0.0  \n",
      "1277     0.5           1.0  12.0  1.000000        1.0   0.0  \n",
      "1278     0.5           1.0  12.0  1.000000        1.0   0.0  \n",
      "\n",
      "[1279 rows x 13 columns], 'res_id_list': [2, 3, 4, 5, 6, 7, 8, 9, 10, 11, 12, 13, 14, 15, 16, 17, 18, 19, 20, 21, 22, 23, 24, 25, 26, 27, 28, 29, 30, 31, 32, 33, 34, 35, 36, 37, 38, 39, 40, 41, 42, 43, 44, 45, 46, 47, 48, 49, 50, 51, 52, 53, 54, 55, 56, 57, 58, 59, 60, 61, 62, 63, 64, 65, 66, 67, 68, 69, 70, 71, 72, 73, 74, 75, 76, 77, 78, 79, 80, 81, 82, 83, 84, 85, 86, 87, 88, 89, 90, 91, 92, 93, 94, 95, 96, 97, 98, 99, 100, 101, 102, 103, 104, 105, 106, 107, 108, 109, 110, 111, 112, 113, 114, 115, 116, 117, 118, 119, 120, 121, 122, 123, 124, 125, 126, 127, 128, 129, 130, 131, 132, 133, 134, 135, 136, 137, 138, 139, 140, 141, 142, 143, 144, 145, 146, 147, 148, 149, 150, 151, 152, 153, 154, 155, 156, 157, 158, 159, 160, 161, 162, 163, 164, 165, 166, 167, 168, 169, 170, 171]}\n"
     ]
    }
   ],
   "source": [
    "import pickle\n",
    "with open('E:\\PaperCode\\对标GraphBind\\Datasets\\PMG\\PDB_DF\\\\6HMZ_X.csv.pkl', 'rb') as file:\n",
    "    loaded_data = pickle.load(file)\n",
    "    print(loaded_data)"
   ]
  },
  {
   "cell_type": "code",
   "execution_count": 7,
   "metadata": {},
   "outputs": [
    {
     "name": "stdout",
     "output_type": "stream",
     "text": [
      "0       0.0\n",
      "1       0.0\n",
      "2       0.0\n",
      "3       0.0\n",
      "4       1.0\n",
      "       ... \n",
      "1274    0.0\n",
      "1275    1.0\n",
      "1276    1.0\n",
      "1277    1.0\n",
      "1278    1.0\n",
      "Name: is_sidechain, Length: 1279, dtype: float64\n"
     ]
    }
   ],
   "source": [
    "print(loaded_data['pdb_DF']['is_sidechain'])"
   ]
  },
  {
   "cell_type": "code",
   "execution_count": 24,
   "metadata": {},
   "outputs": [
    {
     "name": "stdout",
     "output_type": "stream",
     "text": [
      "[0.05138301 3.87936271 0.58003163]\n",
      "夹角 θ（度）: 45.88974746062357\n"
     ]
    }
   ],
   "source": [
    "import numpy as np\n",
    "\n",
    "# 假设有两个点的坐标\n",
    "pointz = np.array([ 47.66925748 , 82.32201651 ,121.98438082])\n",
    "point1 = np.array([ 47.72064049,  86.20137922, 122.56441245])-pointz  # 第一个点的坐标\n",
    "point2 = np.array([ 51.50852779 , 87.40417973, 119.62607287])-pointz  # 第二个点的坐标\n",
    "print(point1)\n",
    "# 计算两个点的向量\n",
    "vector1 = point1\n",
    "vector2 = point2\n",
    "\n",
    "# 计算点积\n",
    "dot_product = np.dot(vector1, vector2)\n",
    "\n",
    "# 计算向量的模长\n",
    "magnitude1 = np.linalg.norm(vector1)\n",
    "magnitude2 = np.linalg.norm(vector2)\n",
    "\n",
    "# 计算夹角的余弦值\n",
    "cosine_theta = dot_product / (magnitude1 * magnitude2)\n",
    "\n",
    "# 计算夹角（弧度）\n",
    "theta_rad = np.arccos(cosine_theta)\n",
    "\n",
    "# 将弧度转换为度\n",
    "theta_deg = np.degrees(theta_rad)\n",
    "\n",
    "print(\"夹角 θ（度）:\", theta_deg)\n"
   ]
  },
  {
   "cell_type": "code",
   "execution_count": 26,
   "metadata": {},
   "outputs": [
    {
     "data": {
      "text/plain": [
       "6.791906646516975"
      ]
     },
     "execution_count": 26,
     "metadata": {},
     "output_type": "execute_result"
    }
   ],
   "source": [
    "np.sqrt(np.sum(np.square(point2)))"
   ]
  }
 ],
 "metadata": {
  "kernelspec": {
   "display_name": "onedot",
   "language": "python",
   "name": "python3"
  },
  "language_info": {
   "codemirror_mode": {
    "name": "ipython",
    "version": 3
   },
   "file_extension": ".py",
   "mimetype": "text/x-python",
   "name": "python",
   "nbconvert_exporter": "python",
   "pygments_lexer": "ipython3",
   "version": "3.8.10"
  }
 },
 "nbformat": 4,
 "nbformat_minor": 2
}
